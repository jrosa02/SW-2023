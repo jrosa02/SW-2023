{
 "cells": [
  {
   "cell_type": "markdown",
   "metadata": {
    "collapsed": false
   },
   "source": [
    "## Zadanie domowe: BBHE i DSIHE\n",
    "\n",
    "W klasycznym wyrównywaniu histogramu HE  po wykonaniu operacji jasność obrazu ulega zmianie.\n",
    "Dało się to zaobserwować podczas przeprowadzonych eksperymentów.\n",
    "Jeśli nie to należy uruchomić skrypt z sekcji A i zwrócić na to uwagę.\n",
    "Średnia jasność dąży do środkowego poziomu szarości.\n",
    "Jest to wada i dlatego klasyczne HE ma ograniczone zastosowanie.\n",
    "\n",
    "Powstało sporo metod, które eliminują to niekorzystne zjawisko.\n",
    "Najprostsze z nich polegają na dekompozycji obrazu wejściowego na dwa podobrazy (wg. pewnego kryterium).\n",
    "Następnie operacja HE wykonywana jest dla tych podobrazów.\n",
    "\n",
    "Dwie znane z literatury metody to:\n",
    "- Bi-Histogram Equalization\n",
    "- DSIHE - Dualistic Sub-Image Histogram Equalization\n",
    "\n",
    "W metodzie BBHE za kryterium podziału przyjmuje się średnią jasność w obrazie.\n",
    "W DSIHE obraz dzieli się na dwa podobrazy o takiej samej liczbie pikseli (jaśniejszych i ciemniejszych).\n",
    "\n",
    "W ramach zadania należy zaimplementować wybraną metodę: BBHE lub DSIHE (ew. obie).\n",
    "\n",
    "1. Wczytaj obraz *jet.bmp* i wylicz jego histogram.\n",
    "2. W kolejnym kroku należy wyznaczyć próg podziału obrazu na dwa podobrazy (*lm*).\n",
    "3. Dla BBHE wyznacz średnią jasność obrazu. Dla DSIHE można wykorzystać histogram skumulowany.\n",
    "Należy znaleźć poziom jasności który znajduje się \"w połowie\" histogramu skumulowanego.\n",
    "W tym celu warto stworzyć tablicę, zawierającą moduł histogramu skumulowanego pomniejszonego o połowę liczby pikseli.\n",
    "Następnie znaleźć minimum.\n",
    "4. Dalej należy podzielić histogram oryginalnego obrazu na dwa histogramy *H1* i *H2*.\n",
    "Dla każdego z nich wyliczyć histogram skumulowany ($C_1$ i $C_2$) i wykonać normalizację.\n",
    "Normalizacja polega na podzieleniu każdego histogramu przez jego największy element.\n",
    "5. Na podstawie histogramów skumulowanych należy stworzyć przekształcenie LUT.\n",
    "Należy tak przeskalować $C_1$ i $C_2$, aby uzyskać jednorodne przekształcenie.\n",
    "Tablicę $C_1$ wystarczy pomnożyć przez próg podziału.\n",
    "Tablicę $C_2$ należy przeskalować do przedziału: $<lm+1; 255>$, gdzie $lm$ jest progiem podziału.<br>\n",
    "$C_{1n} = (lm)*C1;$<br>\n",
    "$C_{2n} = lm+1 + (255-lm-1)*C2;$<br>\n",
    "Następnie dwie części tablicy przekodowań należy połączyć.\n",
    "6. Ostatecznie należy wykonać operację LUT i wyświetlić wynik wyrównywania histogramu.\n",
    "Porównaj wynik operacji BBHE lub DSIHE z klasycznym HE."
   ]
  },
  {
   "cell_type": "code",
   "execution_count": null,
   "metadata": {
    "collapsed": false,
    "pycharm": {
     "name": "#%% Zadanie domowe - BBHE\n"
    }
   },
   "outputs": [],
   "source": [
    "import cv2\n",
    "import os\n",
    "from matplotlib import pyplot as plt\n",
    "import numpy as np\n",
    "\n",
    "if not os.path.exists(\"jet.bmp\") :\n",
    "    !wget https://raw.githubusercontent.com/vision-agh/poc_sw/master/03_Histogram/jet.bmp --no-check-certificate\n",
    "jet = cv2.imread(\"jet.bmp\")\n",
    "H = cv2.calcHist([jet], [0], None, [256], [0, 256])\n",
    "#dimensions of np.average op\n",
    "jet_avg1 = np.uint8(np.average(jet))\n",
    "\n",
    "figjet, axsjet = plt.subplots(2, 1)\n",
    "figjet.set_size_inches(8, 10)\n",
    "axsjet[0].imshow(jet)\n",
    "axsjet[1].plot(H)\n",
    "axsjet[1].plot(np.cumsum(H)*(max(H)/max(sum(H))))\n",
    "\n",
    "for i in range(2):\n",
    "    if i == 0:\n",
    "        jet_avg = 1\n",
    "    else:\n",
    "        jet_avg = jet_avg1\n",
    "    H1 = H[:jet_avg]\n",
    "    H2 = H[jet_avg:]\n",
    "\n",
    "    C1 = np.cumsum(H1)\n",
    "    C2 = np.cumsum(H2)\n",
    "\n",
    "    C1_norm = C1/max(C1)\n",
    "    C2_norm = C2/max(C2)\n",
    "\n",
    "    # figjet, axsjet = plt.subplots(1, 2)\n",
    "    # figjet.set_size_inches(8, 10)\n",
    "    # axsjet[0].plot(H1)\n",
    "    # axsjet[0].plot(C1_norm)\n",
    "    # axsjet[1].plot(H2)\n",
    "    # axsjet[1].plot(C2_norm)\n",
    "\n",
    "    C1n = jet_avg * C1_norm\n",
    "    C2n = jet_avg + 1 + (254 - jet_avg) * C2_norm\n",
    "\n",
    "\n",
    "    C_fin  = np.array(list(C1n) + list(C2n))\n",
    "\n",
    "    # figjet, axsjet = plt.subplots()\n",
    "    # figjet.set_size_inches(8, 10)\n",
    "    # axsjet.plot(C_fin)\n",
    "    # axsjet.plot(H*256/max(H))\n",
    "\n",
    "    jet_BHE = cv2.LUT(jet, C_fin).astype('uint8')\n",
    "    H_BHE = cv2.calcHist([jet_BHE], [0], None, [256], [0, 255]) \n",
    "\n",
    "    figjet, axsjet = plt.subplots(2, 1)\n",
    "    axsjet[0].imshow(jet_BHE)\n",
    "    axsjet[1].plot(H_BHE)\n",
    "    axsjet[1].plot(np.cumsum(H_BHE)*(max(H_BHE)/max(sum(H_BHE))))\n",
    "\n",
    "\n"
   ]
  },
  {
   "attachments": {},
   "cell_type": "markdown",
   "metadata": {},
   "source": [
    "Bhe uwidacznia szczegóły gór, a zwykly lut szczegóły chmur, tj BHE w tym przypadku nie zaciemnia jasnych obszarów"
   ]
  }
 ],
 "metadata": {
  "kernelspec": {
   "display_name": "Python 3",
   "language": "python",
   "name": "python3"
  },
  "language_info": {
   "codemirror_mode": {
    "name": "ipython",
    "version": 3
   },
   "file_extension": ".py",
   "mimetype": "text/x-python",
   "name": "python",
   "nbconvert_exporter": "python",
   "pygments_lexer": "ipython3",
   "version": "3.10.10"
  }
 },
 "nbformat": 4,
 "nbformat_minor": 0
}

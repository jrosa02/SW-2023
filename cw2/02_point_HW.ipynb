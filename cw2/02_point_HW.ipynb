{
 "cells": [
  {
   "cell_type": "markdown",
   "metadata": {
    "collapsed": false
   },
   "source": [
    "# Zadanie domowe\n",
    "\n",
    "W przypadku obrazów w odcieniach szarości pojedynczy piksel z zakresu [0; 255] reprezentowany jest jako 8-bitowa liczba bez znaku.\n",
    "Pewnym rozszerzeniem analizy sposobu reprezentacji obrazu może być następujący eksperyment.\n",
    "Załóżmy, że z każdego z 8 bitów możemy stworzyć pojedynczy obraz binarny (ang. _bit-plane slicing_).\n",
    "Dla obrazka _100zloty.jpg_ (https://raw.githubusercontent.com/vision-agh/poc_sw/master/02_Point/100zloty.jpg) stwórz 8 obrazów, z których każdy powinien zawierać jedną płaszczyznę bitową.\n",
    "Podpowiedź $-$ warto sprawdzić, jak realizuje się bitowe operacje logiczne.\n",
    "Zastosowanie takiej dekompozycji obrazu pozwala na analizę ,,ważności'' poszczególnych bitów.\n",
    "Jest to użyteczne w kwantyzacji, ale także w kompresji.\n",
    "\n",
    "W drugim etapie zadania proszę spróbować odtworzyć obraz oryginalny z mniejszej liczby obrazów binarnych.\n",
    "Warto zacząć od dwóch najbardziej znaczących bitów, a później dodawać kolejne.\n",
    "Należy utworzyć co najmniej trzy wersje zrekonstruowanych obrazów.\n",
    "Podpowiedź $-$ rekonstrukcja obrazu to mnożenie przez odpowiednią potęgę liczby 2 (przesunięcie bitowe) oraz dodawanie."
   ]
  },
  {
   "cell_type": "code",
   "execution_count": null,
   "metadata": {},
   "outputs": [],
   "source": [
    "import os\n",
    "import numpy as np\n",
    "import cv2\n",
    "import matplotlib.pyplot as plt\n",
    "if not os.path.exists(\"100zloty.jpg\"):\n",
    "    !wget https://raw.githubusercontent.com/vision-agh/poc_sw/master/02_Point/100zloty.jpg\n",
    "hajs = cv2.imread('100zloty.jpg', cv2.IMREAD_COLOR)"
   ]
  },
  {
   "cell_type": "code",
   "execution_count": null,
   "metadata": {},
   "outputs": [],
   "source": [
    "shape = tuple([8] + list(hajs.shape))\n",
    "hajs1 = np.ndarray(shape).astype('uint8')\n",
    "fig = plt.figure()\n",
    "for i in range(8):\n",
    "    hajs1[i] = (hajs[:, :, :] & 1 << i )\n",
    "    ax = fig.add_subplot(4, 8, (2*i+1, 2*i+2))\n",
    "    ax.imshow(hajs1[i]*(1<<(7-i)))\n",
    "\n",
    "reconsrtuction_depth = 4\n",
    "shapefin = tuple([reconsrtuction_depth] + list(hajs.shape))\n",
    "hajsfin = np.ndarray(shapefin).astype('uint8')\n",
    "\n",
    "for j in range(reconsrtuction_depth):\n",
    "    for i in range(j+1):\n",
    "        hajsfin[j] += (hajs1[7-i][:, :, :])\n",
    "    fig = plt.figure()\n",
    "    ax = fig.add_subplot()\n",
    "    ax.imshow(hajsfin[j])\n",
    "    ax.set_title(\"Rekonstrukcja złożona z \" + str(j+1) + \" warstw\")\n",
    "    \n",
    "\n"
   ]
  },
  {
   "attachments": {},
   "cell_type": "markdown",
   "metadata": {},
   "source": [
    "Głebokość rekosntrukcji zwiększa dokładność odwzorowania"
   ]
  }
 ],
 "metadata": {
  "kernelspec": {
   "display_name": "jupiter39python",
   "language": "python",
   "name": "python3"
  },
  "language_info": {
   "codemirror_mode": {
    "name": "ipython",
    "version": 3
   },
   "file_extension": ".py",
   "mimetype": "text/x-python",
   "name": "python",
   "nbconvert_exporter": "python",
   "pygments_lexer": "ipython3",
   "version": "3.9.16"
  },
  "vscode": {
   "interpreter": {
    "hash": "aedeab5f07d5991801a446ee309d86b1e3d0f57991092fcb5217002df455f1f1"
   }
  }
 },
 "nbformat": 4,
 "nbformat_minor": 0
}

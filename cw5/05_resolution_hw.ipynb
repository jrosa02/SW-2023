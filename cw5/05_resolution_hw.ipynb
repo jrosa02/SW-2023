{
 "cells": [
  {
   "attachments": {},
   "cell_type": "markdown",
   "metadata": {
    "collapsed": false
   },
   "source": [
    "# Zadanie domowe -- interpolacja dwusześcienna\n",
    "\n",
    "Interpolacja dwusześcienna, to podobnie jak w przypadku interpolacji dwuliniowej, rozszerzenie idei interpolacji jednowymiarowej na dwuwymiarową siatkę.\n",
    "W trakcie jej obliczania wykorzystywane jest 16 pikseli z otoczenia (dla dwuliniowej 4).\n",
    "Skutkuje to zwykle lepszymi wynikami - obraz wyjściowy jest bardziej gładki i z mniejszą liczbą artefaktów.\n",
    "Ceną jest znaczny wzrost złożoności obliczeniowej (zostało to zaobserwowane podczas ćwiczenia).\n",
    "\n",
    "Interpolacja dana jest wzorem:\n",
    "\\begin{equation}\n",
    "I(i,j) = \\sum_{i=0}^{3} \\sum_{j=0}^{3} a_{ij} x^i y^j\n",
    "\\end{equation}\n",
    "\n",
    "Zadanie sprowadza się zatem do wyznaczenia 16 współczynników $a_{ij}$.\n",
    "W tym celu wykorzystuje się, oprócz wartość w~puntach $A$ (0,0), $B$ (1 0), $C$ (1,1), $D$ (0,1) (por. rysunek dotyczący interpolacji dwuliniowej), także pochodne cząstkowe $A_x$, $A_y$, $A_{xy}$.\n",
    "Pozwala to rozwiązać układ 16-tu równań.\n",
    "\n",
    "Jeśli zgrupujemy parametry $a_{ij}$:\n",
    "\\begin{equation}\n",
    "a = [ a_{00}~a_{10}~a_{20}~a_{30}~a_{01}~a_{11}~a_{21}~a_{31}~a_{02}~a_{12}~a_{22}~a_{32}~a_{03}~a_{13}~a_{23}~a_{33}]\n",
    "\\end{equation}\n",
    "\n",
    "i przyjmiemy:\n",
    "\\begin{equation}\n",
    "x = [A~B~D~C~A_x~B_x~D_x~C_x~A_y~B_y~D_y~C_y~A_{xy}~B_{xy}~D_{xy}~C_{xy}]^T\n",
    "\\end{equation}\n",
    "\n",
    "To zagadnienie można opisać w postaci równania liniowego:\n",
    "\\begin{equation}\n",
    "Aa = x\n",
    "\\end{equation}\n",
    "gdzie macierz $A^{-1}$ dana jest wzorem:\n",
    "\n",
    "\\begin{equation}\n",
    "A^{-1} =\n",
    "\\begin{bmatrix}\n",
    "1& 0& 0& 0& 0& 0& 0& 0& 0& 0& 0& 0& 0& 0& 0& 0 \\\\\n",
    "0&  0&  0&  0&  1&  0&  0&  0&  0&  0&  0&  0&  0&  0&  0&  0 \\\\\n",
    "-3&  3&  0&  0& -2& -1&  0&  0&  0&  0&  0&  0&  0&  0&  0&  0 \\\\\n",
    "2& -2&  0&  0&  1&  1&  0&  0&  0&  0&  0&  0&  0&  0&  0&  0 \\\\\n",
    "0&  0&  0&  0&  0&  0&  0&  0&  1&  0&  0&  0&  0&  0&  0&  0 \\\\\n",
    "0&  0&  0&  0&  0&  0&  0&  0&  0&  0&  0&  0&  1&  0&  0&  0 \\\\\n",
    "0&  0&  0&  0&  0&  0&  0&  0& -3&  3&  0&  0& -2& -1&  0&  0 \\\\\n",
    "0&  0&  0&  0&  0&  0&  0&  0&  2& -2&  0&  0&  1&  1&  0&  0 \\\\\n",
    "-3&  0&  3&  0&  0&  0&  0&  0& -2&  0& -1&  0&  0&  0&  0&  0 \\\\\n",
    "0&  0&  0&  0& -3&  0&  3&  0&  0&  0&  0&  0& -2&  0& -1&  0 \\\\\n",
    "9& -9& -9&  9&  6&  3& -6& -3&  6& -6&  3& -3&  4&  2&  2&  1 \\\\\n",
    "-6&  6&  6& -6& -3& -3&  3&  3& -4&  4& -2&  2& -2& -2& -1& -1 \\\\\n",
    "2&  0& -2&  0&  0&  0&  0&  0&  1&  0&  1&  0&  0&  0&  0&  0 \\\\\n",
    "0&  0&  0&  0&  2&  0& -2&  0&  0&  0&  0&  0&  1&  0&  1&  0 \\\\\n",
    "-6&  6&  6& -6& -4& -2&  4&  2& -3&  3& -3&  3& -2& -1& -2& -1 \\\\\n",
    "4& -4& -4&  4&  2&  2& -2& -2&  2& -2&  2& -2&  1&  1&  1&  1 \\\\\n",
    "\\end{bmatrix}\n",
    "\\end{equation}\n",
    "\n",
    "Potrzebne w rozważaniach pochodne cząstkowe obliczane są wg. następującego przybliżenia (przykład dla punktu A):\n",
    "\\begin{equation}\n",
    "A_x = \\frac{I(i+1,j) - I(i-1,j)}{2}\n",
    "\\end{equation}\n",
    "\n",
    "\\begin{equation}\n",
    "A_y = \\frac{I(i,j+1) - I(i,j-1)}{2}\n",
    "\\end{equation}\n",
    "\n",
    "\\begin{equation}\n",
    "A_xy = \\frac{I(i+1,j+1) - I(i-1,j) - I(i,j-1) + I(i,j)}{4}\n",
    "\\end{equation}\n",
    "\n",
    "## Zadanie\n",
    "\n",
    "Wykorzystując podane informacje zaimplementuj interpolację dwusześcienną.\n",
    "Uwagi:\n",
    "- macierz $A^{-1}$ dostępna jest w pliku *a_invert.py*\n",
    "- trzeba się zastanowić nad potencjalnym wykraczaniem poza zakres obrazka (jak zwykle).\n",
    "\n",
    "Ponadto dokonaj porównania liczby operacji arytmetycznych i dostępów do pamięci koniecznych przy realizacji obu metod interpolacji: dwuliniowej i dwusześciennej."
   ]
  },
  {
   "cell_type": "code",
   "execution_count": 27,
   "metadata": {
    "collapsed": false,
    "pycharm": {
     "name": "#%%\n"
    }
   },
   "outputs": [
    {
     "data": {
      "text/plain": [
       "<Figure size 640x480 with 0 Axes>"
      ]
     },
     "metadata": {},
     "output_type": "display_data"
    }
   ],
   "source": [
    "from ainvert import A_1\n",
    "import numpy as np\n",
    "import matplotlib.pyplot as plt\n",
    "import cv2\n",
    "A_1 = np.array(A_1)\n",
    "plt.gray()\n",
    "#print(A_1)"
   ]
  },
  {
   "cell_type": "code",
   "execution_count": 45,
   "metadata": {},
   "outputs": [
    {
     "name": "stderr",
     "output_type": "stream",
     "text": [
      "C:\\Users\\janro\\AppData\\Local\\Temp\\ipykernel_18232\\3323871794.py:11: RuntimeWarning: overflow encountered in scalar add\n",
      "  Axy = (I[i+1, j+1] - I[i-1, j] - I[i, j-1] + I[i, j])/4\n",
      "C:\\Users\\janro\\AppData\\Local\\Temp\\ipykernel_18232\\3323871794.py:16: RuntimeWarning: overflow encountered in scalar subtract\n",
      "  Bxy = (I[i+1, j+1] - I[i-1, j] - I[i, j-1] + I[i, j])/4\n",
      "C:\\Users\\janro\\AppData\\Local\\Temp\\ipykernel_18232\\3323871794.py:21: RuntimeWarning: overflow encountered in scalar add\n",
      "  Cxy = (I[i+1, j+1] - I[i-1, j] - I[i, j-1] + I[i, j])/4\n",
      "C:\\Users\\janro\\AppData\\Local\\Temp\\ipykernel_18232\\3323871794.py:28: RuntimeWarning: overflow encountered in scalar subtract\n",
      "  Dxy = (I[i+1, j+1] - I[i-1, j] - I[i, j-1] + I[i, j])/4\n",
      "C:\\Users\\janro\\AppData\\Local\\Temp\\ipykernel_18232\\3323871794.py:11: RuntimeWarning: overflow encountered in scalar subtract\n",
      "  Axy = (I[i+1, j+1] - I[i-1, j] - I[i, j-1] + I[i, j])/4\n",
      "C:\\Users\\janro\\AppData\\Local\\Temp\\ipykernel_18232\\3323871794.py:16: RuntimeWarning: overflow encountered in scalar add\n",
      "  Bxy = (I[i+1, j+1] - I[i-1, j] - I[i, j-1] + I[i, j])/4\n",
      "C:\\Users\\janro\\AppData\\Local\\Temp\\ipykernel_18232\\3323871794.py:21: RuntimeWarning: overflow encountered in scalar subtract\n",
      "  Cxy = (I[i+1, j+1] - I[i-1, j] - I[i, j-1] + I[i, j])/4\n",
      "C:\\Users\\janro\\AppData\\Local\\Temp\\ipykernel_18232\\3323871794.py:28: RuntimeWarning: overflow encountered in scalar add\n",
      "  Dxy = (I[i+1, j+1] - I[i-1, j] - I[i, j-1] + I[i, j])/4\n"
     ]
    },
    {
     "data": {
      "text/plain": [
       "<matplotlib.image.AxesImage at 0x2dcd5330400>"
      ]
     },
     "execution_count": 45,
     "metadata": {},
     "output_type": "execute_result"
    },
    {
     "data": {
      "image/png": "[encoded data removed]",
      "text/plain": [
       "<Figure size 640x480 with 1 Axes>"
      ]
     },
     "metadata": {},
     "output_type": "display_data"
    }
   ],
   "source": [
    "def bicubic_int(I: cv2.Mat, scalex: float, scaley: float):\n",
    "    newimgshape = (int(I.shape[0] * scaley), int(I.shape[1]*scalex))\n",
    "    newimg = np.ndarray(newimgshape)\n",
    "    for y in range(newimgshape[0]):\n",
    "        for x in range(newimgshape[1]):\n",
    "            i, j = int(y/scaley), int(x/scalex)\n",
    "            if 1 < y < newimg.shape[0] - 3 and 1 < x < newimg.shape[1] - 3:\n",
    "                A = I[i, j]\n",
    "                Ax = (I[i+1, j] - I[i-1, j])/2\n",
    "                Ay = (I[i, j+1] - I[i, j-1])/2\n",
    "                Axy = ((I[i+1, j+1] - I[i-1, j]) - I[i, j-1] + I[i, j])/4\n",
    "                i, j = i, j+1\n",
    "                B = I[i, j]\n",
    "                Bx = (I[i+1, j] - I[i-1, j])/2\n",
    "                By = (I[i, j+1] - I[i, j-1])/2\n",
    "                Bxy = (I[i+1, j+1] - I[i-1, j] - I[i, j-1] + I[i, j])/4\n",
    "                i, j = i + 1, j\n",
    "                C = I[i, j]\n",
    "                Cx = (I[i+1, j] - I[i-1, j])/2\n",
    "                Cy = (I[i, j+1] - I[i, j-1])/2\n",
    "                Cxy = (I[i+1, j+1] - I[i-1, j] - I[i, j-1] + I[i, j])/4\n",
    "                if Cxy < 0:\n",
    "                    print(Cxy)\n",
    "                i, j = i, j-1\n",
    "                D = I[i, j]\n",
    "                Dx = (I[i+1, j] - I[i-1, j])/2\n",
    "                Dy = (I[i, j+1] - I[i, j-1])/2\n",
    "                Dxy = (I[i+1, j+1] - I[i-1, j] - I[i, j-1] + I[i, j])/4\n",
    "\n",
    "                x_vec = np.array([A, B, C, D, Ax, Bx, Cx, Dx, Ay, By, Cy, Dy, Axy, Bxy, Cxy, Dxy]).T\n",
    "                a = A_1@x_vec\n",
    "                sum = 0\n",
    "                for k in range(4):\n",
    "                    for l in range(4):\n",
    "                        sum += a[4*l + k]*(x**k)*(y**l)\n",
    "                newimg[y, x] = sum\n",
    "\n",
    "    return newimg\n",
    "\n",
    "parrot = cv2.imread('parrot.bmp', cv2.IMREAD_GRAYSCALE)\n",
    "chessboard = cv2.imread('chessboard.bmp', cv2.IMREAD_GRAYSCALE)\n",
    "new = bicubic_int(chessboard, 1.5, 1.5)\n",
    "chessboard = parrot\n",
    "#new = cv2.resize(chessboard, dsize=(int(chessboard.shape[0]*1.5), int(chessboard.shape[1]*1.5)), interpolation=cv2.INTER_CUBIC)\n",
    "plt.imshow(new)\n"
   ]
  }
 ],
 "metadata": {
  "kernelspec": {
   "display_name": "Python 3",
   "language": "python",
   "name": "python3"
  },
  "language_info": {
   "codemirror_mode": {
    "name": "ipython",
    "version": 3
   },
   "file_extension": ".py",
   "mimetype": "text/x-python",
   "name": "python",
   "nbconvert_exporter": "python",
   "pygments_lexer": "ipython3",
   "version": "3.10.10"
  }
 },
 "nbformat": 4,
 "nbformat_minor": 4
}
